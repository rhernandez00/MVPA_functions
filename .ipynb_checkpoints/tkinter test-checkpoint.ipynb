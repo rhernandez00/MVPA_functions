{
 "cells": [
  {
   "cell_type": "code",
   "execution_count": 1,
   "id": "caaa9ab8",
   "metadata": {},
   "outputs": [],
   "source": [
    "import pandas as pd\n",
    "import os\n",
    "import re\n",
    "from itertools import product"
   ]
  },
  {
   "cell_type": "code",
   "execution_count": 2,
   "id": "998e4fe4",
   "metadata": {},
   "outputs": [],
   "source": [
    "def transform(string, varType, paddedBy):\n",
    "    result = []\n",
    "    if varType == 'number':\n",
    "        parts = string.split(',')  # Split the string by commas\n",
    "\n",
    "        for part in parts:\n",
    "            part = part.strip()  # Remove leading and trailing whitespace\n",
    "            if ':' in part:\n",
    "                start, end = part.split(':')  # Split the part by colon if it contains a range\n",
    "                result.extend([str(i).zfill(paddedBy) for i in range(int(start), int(end) + 1)])  # Add the range of numbers to the result list, as zero-padded strings\n",
    "            else:\n",
    "                result.append(str(int(part)).zfill(paddedBy))  # Add the single number to the result list, as a zero-padded string\n",
    "    elif varType == 'string':\n",
    "        parts = string.split(',')  # Split the string by commas\n",
    "        for part in parts:\n",
    "            part = part.strip()  # Remove leading and trailing whitespace\n",
    "            result.append(part)  # Add each element of the list\n",
    "    else:\n",
    "        raise ValueError(\"Error: Wrong varType: \" + varType)\n",
    "\n",
    "    return result\n",
    "\n",
    "\n",
    "def explodeString(s):\n",
    "    #Finds the variables in the string\n",
    "    variableNames = re.findall(r'\\[(.*?)\\]', s)\n",
    "\n",
    "    #Gets all the elements of the list for the given variable\n",
    "    variableValues = product(*(variablesDict[name] for name in variableNames))\n",
    "\n",
    "    # For each combination, substitute the variables in s with the corresponding values\n",
    "    resList = []\n",
    "    for values in variableValues:\n",
    "        resList.append(s)\n",
    "        for name, value in zip(variableNames, values):\n",
    "            resList[-1] = resList[-1].replace('['+name+']', str(value))\n",
    "    correctedList = []\n",
    "    for n in resList:\n",
    "        correctedList.append(n.replace('\\\\\\\\', '\\\\'))\n",
    "    return correctedList"
   ]
  },
  {
   "cell_type": "code",
   "execution_count": 3,
   "id": "1ced1e8a",
   "metadata": {},
   "outputs": [
    {
     "data": {
      "text/plain": [
       "{'subsPossible': ['001', '002'],\n",
       " 'subsNames': ['Odin', 'Kunkun'],\n",
       " 'runsPossible': ['001', '002', '003', '004', '005'],\n",
       " 'runsPossible2': ['01', '02', '03', '04', '05'],\n",
       " 'dataPath': ['C:\\\\Raul\\\\data'],\n",
       " 'experiment': ['Voice_sens2'],\n",
       " 'speciesPossible': ['D'],\n",
       " 'imgTypes': ['hbo', 'hbr']}"
      ]
     },
     "execution_count": 3,
     "metadata": {},
     "output_type": "execute_result"
    }
   ],
   "source": [
    "tablePath = 'G:\\\\My Drive\\\\Voice_sens2\\\\HDDOT.xlsx'\n",
    "data = pd.read_excel(tablePath,sheet_name='Variables')\n",
    "variablesDict = {}\n",
    "for index,row in data.iterrows():\n",
    "    variablesDict[row.varName] = transform(row.varValues,row.varType,row.paddedBy)\n",
    "variablesDict"
   ]
  },
  {
   "cell_type": "code",
   "execution_count": 4,
   "id": "4fc8281b",
   "metadata": {},
   "outputs": [
    {
     "name": "stdout",
     "output_type": "stream",
     "text": [
      "['Raw']\n"
     ]
    }
   ],
   "source": [
    "sheet_names = pd.ExcelFile(tablePath).sheet_names\n",
    "sheet_names.pop(sheet_names == 'Variables')\n",
    "print(sheet_names)"
   ]
  },
  {
   "cell_type": "markdown",
   "id": "06114b20",
   "metadata": {},
   "source": [
    "This creates a dictionary \"variables\" that will hold all the variables"
   ]
  },
  {
   "cell_type": "markdown",
   "id": "b8cfbf13",
   "metadata": {},
   "source": [
    "Getting the other sheets in the table"
   ]
  },
  {
   "cell_type": "code",
   "execution_count": 97,
   "id": "c844b94d",
   "metadata": {},
   "outputs": [
    {
     "name": "stdout",
     "output_type": "stream",
     "text": [
      "['Raw']\n"
     ]
    }
   ],
   "source": [
    "sheet_names = pd.ExcelFile(tablePath).sheet_names\n",
    "sheet_names.pop(sheet_names == 'Variables')\n",
    "print(sheet_names)"
   ]
  },
  {
   "cell_type": "markdown",
   "id": "fad3fdec",
   "metadata": {},
   "source": [
    "Create a dictionary for each page"
   ]
  },
  {
   "cell_type": "code",
   "execution_count": 5,
   "id": "ef6d4228",
   "metadata": {},
   "outputs": [
    {
     "data": {
      "text/plain": [
       "['C:\\\\Raul\\\\data\\\\Voice_sens2\\\\raw\\\\Odin_run01.lufr',\n",
       " 'C:\\\\Raul\\\\data\\\\Voice_sens2\\\\raw\\\\Odin_run02.lufr',\n",
       " 'C:\\\\Raul\\\\data\\\\Voice_sens2\\\\raw\\\\Odin_run03.lufr',\n",
       " 'C:\\\\Raul\\\\data\\\\Voice_sens2\\\\raw\\\\Odin_run04.lufr',\n",
       " 'C:\\\\Raul\\\\data\\\\Voice_sens2\\\\raw\\\\Odin_run05.lufr',\n",
       " 'C:\\\\Raul\\\\data\\\\Voice_sens2\\\\raw\\\\Kunkun_run01.lufr',\n",
       " 'C:\\\\Raul\\\\data\\\\Voice_sens2\\\\raw\\\\Kunkun_run02.lufr',\n",
       " 'C:\\\\Raul\\\\data\\\\Voice_sens2\\\\raw\\\\Kunkun_run03.lufr',\n",
       " 'C:\\\\Raul\\\\data\\\\Voice_sens2\\\\raw\\\\Kunkun_run04.lufr',\n",
       " 'C:\\\\Raul\\\\data\\\\Voice_sens2\\\\raw\\\\Kunkun_run05.lufr']"
      ]
     },
     "execution_count": 5,
     "metadata": {},
     "output_type": "execute_result"
    }
   ],
   "source": [
    "sheetName= 'Raw'\n",
    "dataS = pd.read_excel(tablePath,sheet_name=sheetName)\n",
    "row = 0\n",
    "\n",
    "#for col in dataS.columns:\n",
    "s = dataS.iloc[row]['path']  + '\\\\' + dataS.iloc[row]['baseName']\n",
    "newList = explodeString(s)\n",
    "\n",
    "d = pd.DataFrame()\n",
    "for \n",
    "    \n",
    "    "
   ]
  },
  {
   "cell_type": "code",
   "execution_count": 6,
   "id": "877b3e97",
   "metadata": {},
   "outputs": [
    {
     "data": {
      "text/plain": [
       "True"
      ]
     },
     "execution_count": 6,
     "metadata": {},
     "output_type": "execute_result"
    }
   ],
   "source": [
    "os.path.isfile(newList[0])"
   ]
  }
 ],
 "metadata": {
  "kernelspec": {
   "display_name": "Python 3",
   "language": "python",
   "name": "python3"
  },
  "language_info": {
   "codemirror_mode": {
    "name": "ipython",
    "version": 3
   },
   "file_extension": ".py",
   "mimetype": "text/x-python",
   "name": "python",
   "nbconvert_exporter": "python",
   "pygments_lexer": "ipython3",
   "version": "3.8.8"
  }
 },
 "nbformat": 4,
 "nbformat_minor": 5
}
